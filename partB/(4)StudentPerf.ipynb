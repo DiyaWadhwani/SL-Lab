In [124]:
import numpy as np
import pandas as pd
import seaborn as sb
import matplotlib.pyplot as plt

In [125]:
studentdf=pd.read_csv("studentperformance.csv")
studentdf.head(20)

In [126]:
studentdf.describe()

In [127]:
studentdf.info()

In [128]:
studentdf.drop(['lunch','test preparation course'],axis=1,inplace=False)
studentdf.head()

In [129]:
studentdf['parental level of education']=studentdf['parental level of education'].fillna("High School")
In [130]:
studentdf.head()

In [131]:
studentdf['race/ethnicity']=studentdf['race/ethnicity'].map({
    'group A':'Asian',
    'group B':'African',
    'group C':'Afro-Asian',
    'group D':'American',
    'group E':'European',
})
In [132]:
studentdf.head()

In [133]:
pd.crosstab(studentdf['gender'],studentdf['test preparation course'])

In [134]:
ax1=sb.countplot(x=studentdf['gender'],hue=studentdf['test preparation course'],palette='Set1')
ax1.set(title='No. of students taking test preparation course by gender',xlabel='Gender',ylabel='No. of students')
plt.show()

In [135]:
ax2=sb.countplot(hue=studentdf['gender'],x=studentdf['race/ethnicity'],palette='Set2')
ax2.set(title='No. of students in each group by gender',xlabel='Group',ylabel='No. of students')
plt.show()

In [136]:
interval=(0,40,60,75,100)
categories=['Fail','Second class','First class','Distinction']
studentdf['mathclass']=pd.cut(studentdf['mathscore'],interval,labels=categories)
studentdf['writeclass']=pd.cut(studentdf['writing score'],interval,labels=categories)
studentdf['readclass']=pd.cut(studentdf['reading score'],interval,labels=categories)
ax3=sb.countplot(x=studentdf['mathclass'],hue=studentdf['gender'],palette='Set1')
ax3.set(title='Math stats',xlabel='Math',ylabel='No. of students')
plt.show()
ax4=sb.countplot(x=studentdf['readclass'],hue=studentdf['gender'],palette='Set2')
ax4.set(title='Reading stats',xlabel='Reading',ylabel='No. of students')
plt.show()
ax5=sb.countplot(x=studentdf['writeclass'],hue=studentdf['gender'],palette='Set3')
ax5.set(title='Writing stats',xlabel='Writing',ylabel='No. of students')
plt.show()

In [137]:
studentdf.head()

In [138]:
studentdf.groupby('race/ethnicity').mean()
