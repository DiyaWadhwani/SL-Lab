In [39]:
import numpy as np
import pandas as pd
import seaborn as sb
import matplotlib.pyplot as plt

In [40]:
bfridaydf=pd.read_csv('BlackFriday.csv')
bfridaydf.head()

In [41]:
bfridaydf.describe()

In [42]:
bfridaydf.info()

In [43]:
bfridaydf.drop(['User_ID','Product_ID','Stay_In_Current_City_Years'],axis=1,inplace=True)
bfridaydf.head()

In [44]:
bfridaydf['City_Category']=bfridaydf['City_Category'].fillna('C')
bfridaydf.head()

In [45]:
bfridaydf['City_Category']=bfridaydf['City_Category'].map({
    'A':'Metro',
    'B':'Town',
    'C':'Village'
})
bfridaydf.head(10)

In [46]:
bfridaydf=bfridaydf.rename(columns={
    'Product_Category_1':'Baseball Caps',
    'Product_Category_2':'Wine Tumblers',
    'Product_Category_3':'Pet Raincoats'
})
bfridaydf.head(2)

In [47]:
bfridaydf['Marital_Status']=bfridaydf['Marital_Status'].map({
    1:'Married',
    0:'Un-married'
})
bfridaydf.head(10)

In [48]:
pd.crosstab(bfridaydf['Gender'],bfridaydf['Baseball Caps'])

In [53]:
print(pd.crosstab(bfridaydf['Gender'],bfridaydf['Baseball Caps']))
ax1=sb.countplot(x='Baseball Caps',hue='Gender',data=bfridaydf,palette='Set1')
ax1.set(title='Baseball caps',xlabel='No. of baseball caps',ylabel='No. of customers')
plt.show()

In [54]:
print(pd.crosstab(bfridaydf['Gender'],bfridaydf['Wine Tumblers']))
ax2=sb.countplot(x='Wine Tumblers',hue='Gender',data=bfridaydf,palette='Set3')
ax2.set(title='Wine Tumblers',xlabel='No. of wine tumblers',ylabel='No. of customers')
plt.show()

In [56]:
ax3=sb.countplot(x='City_Category',hue='Gender',palette='Set2',data=bfridaydf)
ax3.set(title='No. of customers by city category',xlabel='City category',ylabel='No. of customers')
plt.show()
