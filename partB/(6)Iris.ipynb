In [1]:
import numpy as np
import seaborn as sb
import pandas as pd
import matplotlib.pyplot as plt

In [2]:
df=pd.read_csv('iris.csv')
df.head()

In [3]:
df.describe()

In [4]:
df.info()

In [5]:
df.groupby('Class').mean()

In [7]:
ax1=sb.countplot(x=' Sepal_Width',hue='Class',data=df,palette='Set1')
ax1.set(title="No. of flowers per species by sepal width",
       xlabel='Sepal width',ylabel='No. of flowers')
plt.show()

In [8]:
interval=(0,1,2,3)
categories=['<1','1-2','>2']
df['pwclass']=pd.cut(df[' Petal_Width'],interval,labels=categories)
ax2=sb.countplot(x='pwclass',hue='Class',palette='Set2',data=df)
ax2.set(title='No. of flowers by petal width',
       xlabel='Petal Width',ylabel='No. of flowers')
plt.show()

In [10]:
print(pd.crosstab(df['Class'],df[' Sepal_Width']))

